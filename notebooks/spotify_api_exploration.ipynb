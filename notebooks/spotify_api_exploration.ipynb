{
 "cells": [
  {
   "cell_type": "markdown",
   "metadata": {},
   "source": [
    "# Spotify API Exploration \n",
    "\n",
    "Get familiar with Spotify API operations in preparation for a larger recommendation system project"
   ]
  },
  {
   "cell_type": "markdown",
   "metadata": {},
   "source": [
    "## Spotify Client WIP"
   ]
  },
  {
   "cell_type": "code",
   "execution_count": 8,
   "metadata": {},
   "outputs": [],
   "source": [
    "import os \n",
    "import urllib.parse\n",
    "import random \n",
    "import string \n",
    "import requests \n",
    "from requests.auth import HTTPBasicAuth\n",
    "\n",
    "class SPClient: \n",
    "    \"\"\"\n",
    "    Client to wrap all Spotify API operation in for ease of use\n",
    "    \"\"\"\n",
    "\n",
    "    def __init__(self, client_id, client_secret, redirect_uri):\n",
    "        self.client_id=client_id\n",
    "        self.client_secret=client_secret\n",
    "        self.redirect_uri=redirect_uri\n",
    "        self.access_token=None\n",
    "        self.refresh_token=None\n",
    "\n",
    "    def authorize_client(self, scopes):\n",
    "        \"\"\"\n",
    "        Authorize the client to perform actions on a users behalf\n",
    "\n",
    "        Args: \n",
    "            - scopes (str): List of space-separated operations the application is allowed to perform on the users behalf\n",
    "\n",
    "        Returns: \n",
    "            - access_token (str)\n",
    "            - refresh_token (str)\n",
    "        \"\"\"\n",
    "\n",
    "        # construct an auth url for the user \n",
    "        state = \"\".join(random.choice(string.ascii_letters + string.digits) for _ in range(16))\n",
    "        query_params = {\n",
    "            \"response_type\": \"code\", \n",
    "            \"client_id\": self.client_id, \n",
    "            \"scope\": scopes, \n",
    "            \"redirect_uri\": self.redirect_uri, \n",
    "            \"state\": state\n",
    "        }\n",
    "        auth_url = f\"https://accounts.spotify.com/authorize?{urllib.parse.urlencode(query_params)}\"\n",
    "\n",
    "        # prompt user to visit url\n",
    "        print(\"Authenticate at the following URL making sure to copy the URL you are redirected to for the next step.\")\n",
    "        print(f\"- {auth_url}\")\n",
    "\n",
    "        # retrieve redirect URL and parse params \n",
    "        redirect_url = input(\"Paste the redirect URL from the previous step here: \")\n",
    "        parsed_url = urllib.parse.urlparse(redirect_url)\n",
    "        url_params = urllib.parse.parse_qs(parsed_url.query)\n",
    "\n",
    "        # get tokens \n",
    "        if url_params[\"state\"][0] != state:\n",
    "            print(\"Invalid state.\")\n",
    "        else: \n",
    "            res = requests.post(\n",
    "                url=\"https://accounts.spotify.com/api/token\",\n",
    "                headers={\n",
    "                    \"content-type\": \"application/x-www-form-urlencoded\"\n",
    "                },\n",
    "                data={\n",
    "                    \"grant_type\": \"authorization_code\", \n",
    "                    \"code\": url_params[\"code\"][0], \n",
    "                    \"redirect_uri\": os.getenv(\"SP_REDIRECT_URI\")\n",
    "                }, \n",
    "                auth=HTTPBasicAuth(\n",
    "                    username=os.getenv(\"SP_CLIENT_ID\"),\n",
    "                    password=os.getenv(\"SP_CLIENT_SECRET\")\n",
    "                )\n",
    "            )\n",
    "            data = res.json()\n",
    "\n",
    "            # set attributes \n",
    "            self.access_token = data[\"access_token\"]\n",
    "            self.refresh_token = data[\"refresh_token\"]\n",
    "\n",
    "            return {\n",
    "                \"status_code\": 200, \n",
    "                \"message\": \"client authorization successful!\"\n",
    "            }\n",
    "        \n",
    "    def refresh_token(self):\n",
    "        res = requests.post(\n",
    "            url=\"https://accounts.spotify.com/api/token\", \n",
    "            headers={\n",
    "                \"Content-Type\": \"application/x-www-form-urlencoded\"\n",
    "            }, \n",
    "            data={\n",
    "                \"grant_type\": \"refresh_token\", \n",
    "                \"refresh_token\": self.refresh_token\n",
    "            }, \n",
    "            auth=HTTPBasicAuth(\n",
    "                username=self.client_id,\n",
    "                password=self.client_secret\n",
    "            )\n",
    "        )\n",
    "        return res.json()[\"refresh_token\"]"
   ]
  },
  {
   "cell_type": "markdown",
   "metadata": {},
   "source": [
    "## Track and Feature Extraction"
   ]
  },
  {
   "cell_type": "code",
   "execution_count": 9,
   "metadata": {},
   "outputs": [],
   "source": [
    "# instantiate client\n",
    "sp = SPClient(\n",
    "    client_id=os.getenv(\"SP_CLIENT_ID\"), \n",
    "    client_secret=os.getenv(\"SP_CLIENT_SECRET\"),\n",
    "    redirect_uri=os.getenv(\"SP_REDIRECT_URI\")\n",
    ")"
   ]
  },
  {
   "cell_type": "code",
   "execution_count": 10,
   "metadata": {},
   "outputs": [
    {
     "name": "stdout",
     "output_type": "stream",
     "text": [
      "Authenticate at the following URL making sure to copy the URL you are redirected to for the next step.\n",
      "- https://accounts.spotify.com/authorize?response_type=code&client_id=fd76fa43d59e433b89d63e1ad594f8bb&scope=user-read-private+user-read-email+user-read-recently-played&redirect_uri=http%3A%2F%2Flocalhost%3A8888%2Fcallback&state=jNH247a2oHt88DHA\n"
     ]
    }
   ],
   "source": [
    "res = sp.authorize_client(scopes=\"user-read-private user-read-email user-read-recently-played\")"
   ]
  },
  {
   "cell_type": "code",
   "execution_count": 12,
   "metadata": {},
   "outputs": [],
   "source": [
    "# submit request for listening history \n",
    "res = requests.get(\n",
    "    url=\"https://api.spotify.com/v1/me/player/recently-played\", \n",
    "    headers={\n",
    "        \"Authorization\": f'Bearer {sp.access_token}'\n",
    "    }\n",
    ")"
   ]
  },
  {
   "cell_type": "code",
   "execution_count": 17,
   "metadata": {},
   "outputs": [],
   "source": [
    "data = res.json()\n",
    "\n",
    "ids = []\n",
    "\n",
    "for item in data[\"items\"]:\n",
    "    ids.append(item[\"track\"][\"id\"])"
   ]
  },
  {
   "cell_type": "code",
   "execution_count": null,
   "metadata": {},
   "outputs": [],
   "source": []
  },
  {
   "cell_type": "markdown",
   "metadata": {},
   "source": [
    "## Requesting an Access Token "
   ]
  },
  {
   "cell_type": "markdown",
   "metadata": {},
   "source": [
    "### Non-User-Related Data\n",
    "\n",
    "No user authentication required, just pass in the application's client id and secret"
   ]
  },
  {
   "cell_type": "code",
   "execution_count": 4,
   "metadata": {},
   "outputs": [],
   "source": [
    "import requests\n",
    "import os\n",
    "\n",
    "res = requests.post(\n",
    "    url=\"https://accounts.spotify.com/api/token\", \n",
    "    headers= {\n",
    "        \"Content-Type\": \"application/x-www-form-urlencoded\"\n",
    "    }, \n",
    "    data=f'grant_type=client_credentials&client_id={os.getenv(\"SP_CLIENT_ID\")}&client_secret={os.getenv(\"SP_CLIENT_SECRET\")}')"
   ]
  },
  {
   "cell_type": "code",
   "execution_count": 9,
   "metadata": {},
   "outputs": [
    {
     "data": {
      "text/plain": [
       "{'access_token': 'BQA-sO3au6M7ZMSzGP9_AKfg_6F9WASST450UD7xfGhzC9BYaVhBsgmuel9wy4oGRccNmaq6aTKfvc1Q8bBtb8-yF_BtNYBdCIcnvLhMpl01y64-Evg',\n",
       " 'token_type': 'Bearer',\n",
       " 'expires_in': 3600}"
      ]
     },
     "execution_count": 9,
     "metadata": {},
     "output_type": "execute_result"
    }
   ],
   "source": [
    "data = res.json()\n",
    "data"
   ]
  },
  {
   "cell_type": "markdown",
   "metadata": {},
   "source": [
    "### User-Specific Data\n",
    "\n",
    "Build an authorization URL for a user to visit "
   ]
  },
  {
   "cell_type": "code",
   "execution_count": 2,
   "metadata": {},
   "outputs": [],
   "source": [
    "import os \n",
    "import urllib.parse\n",
    "import random \n",
    "import string \n",
    "\n",
    "# get applications configurations (set on developer dashboard)\n",
    "client_id = os.getenv(\"SP_CLIENT_ID\")\n",
    "redirect_uri = os.getenv(\"SP_REDIRECT_URI\")\n",
    "\n",
    "# set random state param\n",
    "state = \"\".join(random.choice(string.ascii_letters + string.digits) for _ in range(16))\n",
    "\n",
    "# set scope according to documentation\n",
    "scope = \"user-read-private user-read-email user-read-recently-played\"\n",
    "\n",
    "# fill in required query params\n",
    "query_params = {\n",
    "    \"response_type\": \"code\", \n",
    "    \"client_id\": client_id, \n",
    "    \"scope\": scope, \n",
    "    \"redirect_uri\": redirect_uri, \n",
    "    \"state\": state\n",
    "}\n",
    "\n",
    "# construct an authorization url \n",
    "auth_url = f\"https://accounts.spotify.com/authorize?{urllib.parse.urlencode(query_params)}\""
   ]
  },
  {
   "cell_type": "code",
   "execution_count": 12,
   "metadata": {},
   "outputs": [
    {
     "name": "stdout",
     "output_type": "stream",
     "text": [
      "Visit the following URL to authenticate:\n",
      "- https://accounts.spotify.com/authorize?response_type=code&client_id=fd76fa43d59e433b89d63e1ad594f8bb&scope=user-read-private+user-read-email+user-read-recently-played&redirect_uri=http%3A%2F%2Flocalhost%3A8888%2Fcallback&state=3PIU37ZT8jKjnVuO\n",
      "\n",
      "After you have authenticated please copy the URL you are redirected to for use in the next step\n"
     ]
    }
   ],
   "source": [
    "print(\"Visit the following URL to authenticate:\")\n",
    "print(f\"- {auth_url}\")\n",
    "\n",
    "print(\"\\nAfter you have authenticated please copy the URL you are redirected to for use in the next step\")"
   ]
  },
  {
   "cell_type": "code",
   "execution_count": 13,
   "metadata": {},
   "outputs": [
    {
     "data": {
      "text/plain": [
       "{'code': ['AQCu1vIQpNLIGtTsy-E1OBfaqvGy2R7T_SwAIgVYh2dbv_uknVPEKgHepbcFu9al6hctpRnj2TIpqKHVG7zzpG7hsqswIcdX64Jidi6g4sZl0pi-78c6tqTqe74xAe30pYC8jx1oVjzlbo3S1Cc1hZXoFQvdpujSZ31Gn6Q2Ee-Jfy5zlcTeYsHXp9YkuL7JXH-vc9NLUALL_uPvKHcRSS-cPPoHea5TZdpg18PT8gZ2qTSenFcqehENtowlhi1eng'],\n",
       " 'state': ['3PIU37ZT8jKjnVuO']}"
      ]
     },
     "execution_count": 13,
     "metadata": {},
     "output_type": "execute_result"
    }
   ],
   "source": [
    "from dotenv import load_dotenv\n",
    "\n",
    "redirect_url = input(\"Pase your redirect URL from the previous step here: \")\n",
    "\n",
    "# parse URL to get relevant\n",
    "parsed_url = urllib.parse.urlparse(redirect_url)\n",
    "url_params = urllib.parse.parse_qs(parsed_url.query)\n",
    "\n",
    "url_params"
   ]
  },
  {
   "cell_type": "code",
   "execution_count": 14,
   "metadata": {},
   "outputs": [],
   "source": [
    "import requests \n",
    "from requests.auth import HTTPBasicAuth\n",
    "import base64\n",
    "\n",
    "if not url_params[\"state\"][0]:\n",
    "    print(\"State mismatch.\")\n",
    "else:\n",
    "    res = requests.post(\n",
    "        url=\"https://accounts.spotify.com/api/token\",\n",
    "        headers={\n",
    "            \"content-type\": \"application/x-www-form-urlencoded\"\n",
    "        },\n",
    "        data={\n",
    "            \"grant_type\": \"authorization_code\", \n",
    "            \"code\": url_params[\"code\"][0], \n",
    "            \"redirect_uri\": os.getenv(\"SP_REDIRECT_URI\")\n",
    "        }, \n",
    "        auth=HTTPBasicAuth(\n",
    "            username=os.getenv(\"SP_CLIENT_ID\"),\n",
    "            password=os.getenv(\"SP_CLIENT_SECRET\")\n",
    "        )\n",
    "    )\n",
    "    data = res.json()"
   ]
  },
  {
   "cell_type": "code",
   "execution_count": null,
   "metadata": {},
   "outputs": [],
   "source": [
    "data"
   ]
  },
  {
   "cell_type": "markdown",
   "metadata": {},
   "source": [
    "#### Refreshing Tokens "
   ]
  },
  {
   "cell_type": "code",
   "execution_count": 7,
   "metadata": {},
   "outputs": [],
   "source": [
    "refresh_res = requests.post(\n",
    "    url=\"https://accounts.spotify.com/api/token\", \n",
    "    headers={\n",
    "        \"Content-Type\": \"application/x-www-form-urlencoded\"\n",
    "    }, \n",
    "    data={\n",
    "        \"grant_type\": \"refresh_token\", \n",
    "        \"refresh_token\": \"AQATttiV-_JsG3YiEN_QEMkWD5C9cjbdb1ZIBdCQUoBazyHGZAM6auorIHEY8Z7G078nHmXj0NQfZVUuRGJxuBqIC0bjTS4dST65mVOohsI3eI4n0o7Q49roRj_RQD68biY\"\n",
    "    }, \n",
    "    auth=HTTPBasicAuth(\n",
    "        username=os.getenv(\"SP_CLIENT_ID\"),\n",
    "        password=os.getenv(\"SP_CLIENT_SECRET\")\n",
    "    )\n",
    ")"
   ]
  },
  {
   "cell_type": "code",
   "execution_count": 8,
   "metadata": {},
   "outputs": [
    {
     "data": {
      "text/plain": [
       "'AQATttiV-_JsG3YiEN_QEMkWD5C9cjbdb1ZIBdCQUoBazyHGZAM6auorIHEY8Z7G078nHmXj0NQfZVUuRGJxuBqIC0bjTS4dST65mVOohsI3eI4n0o7Q49roRj_RQD68biY'"
      ]
     },
     "execution_count": 8,
     "metadata": {},
     "output_type": "execute_result"
    }
   ],
   "source": [
    "data[\"refresh_token\"]"
   ]
  },
  {
   "cell_type": "code",
   "execution_count": 24,
   "metadata": {},
   "outputs": [
    {
     "data": {
      "text/plain": [
       "'AQC2Z3wMQnZN0HJEfWC2DuP0i4Tg0EJseW7Fl5Q76nofEvME2F61LrrKOAcsqrl7JV8N0db8PBsX41zd6bUP6uBCzHSJtwrIO2v2zzmUb2q9RnZuf7KhXy0MQ4MGMHF-094'"
      ]
     },
     "execution_count": 24,
     "metadata": {},
     "output_type": "execute_result"
    }
   ],
   "source": [
    "load_dotenv()\n",
    "\n",
    "os.getenv(\"SOPHIE_REFRESH_TOKEN\")"
   ]
  },
  {
   "cell_type": "code",
   "execution_count": 9,
   "metadata": {},
   "outputs": [],
   "source": [
    "# submit request for listening history \n",
    "listening_history_res = requests.get(\n",
    "    url=\"https://api.spotify.com/v1/me/player/recently-played\", \n",
    "    headers={\n",
    "        \"Authorization\": f'Bearer BQC-PfGOyLjgmchF3TQq2SDheu-CaPjJeNyZrfozAsvS_P7YldmhhrLUW7AvWN7LPsnSQb0WlS8NOofJn92H7Wy4zZlaGNJtzaXW3iXv6QowdCrC2gqzIVQ-sc5BSleoTqL0ENKTQBlZFSaCH8WMqxAPPdOOLI9ekgI7nnkWarkPlLRq8pznaxMuk8OVn0sSc1Bs'\n",
    "    }\n",
    ")"
   ]
  },
  {
   "cell_type": "code",
   "execution_count": 27,
   "metadata": {},
   "outputs": [],
   "source": [
    "history = listening_history_res.json()"
   ]
  },
  {
   "cell_type": "code",
   "execution_count": 37,
   "metadata": {},
   "outputs": [
    {
     "name": "stdout",
     "output_type": "stream",
     "text": [
      "Easy (with Kacey Musgraves feat. Mark Ronson)\n",
      "Been There Done That (feat. Tove Styrke)\n",
      "Neon Eyes\n",
      "Enzo (with Sheck Wes, feat. Offset, 21 Savage & Gucci Mane)\n",
      "love race (feat. Kellin Quinn)\n",
      "Simple\n",
      "Trust\n",
      "Be Kind\n",
      "Rain\n",
      "Summertime In Paris\n",
      "Habit\n",
      "Peach\n",
      "Tangerine\n",
      "SUGAR\n",
      "Cocoa Butter Kisses\n",
      "BLEACH\n",
      "Stella Brown\n",
      "Take Me Where Your Heart Is\n",
      "Long Beach\n",
      "HIT EM WHERE IT HURTS\n"
     ]
    }
   ],
   "source": [
    "for item in history[\"items\"]:\n",
    "    print(item[\"track\"][\"name\"])"
   ]
  }
 ],
 "metadata": {
  "kernelspec": {
   "display_name": "ml_env",
   "language": "python",
   "name": "python3"
  },
  "language_info": {
   "codemirror_mode": {
    "name": "ipython",
    "version": 3
   },
   "file_extension": ".py",
   "mimetype": "text/x-python",
   "name": "python",
   "nbconvert_exporter": "python",
   "pygments_lexer": "ipython3",
   "version": "3.11.4"
  },
  "orig_nbformat": 4
 },
 "nbformat": 4,
 "nbformat_minor": 2
}
