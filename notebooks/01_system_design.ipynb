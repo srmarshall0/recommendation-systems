{
 "cells": [
  {
   "cell_type": "markdown",
   "metadata": {},
   "source": [
    "# System Design for Recommendation Systems \n",
    "\n",
    "What elements make for a capeable and scalable recommendation system? "
   ]
  },
  {
   "cell_type": "markdown",
   "metadata": {},
   "source": [
    "## Elements of a Recommendation System"
   ]
  },
  {
   "cell_type": "markdown",
   "metadata": {},
   "source": [
    "**Online vs. Offline**\n",
    "\n",
    "Online tasks are done *on the fly* whereas offline tasks are done *in advance*\n",
    "- Inference (required only the trained model and relevant input) is an online task\n",
    "- Accessing and processing the data is an offline task \n",
    "\n",
    "Batch processes: \n",
    "- Do not require use input and has longer expected time periods for completio and requires all data to be availble simultaneously\n",
    "- Think model training, dataset augmention, computationally complex transformations\n",
    "- More recently, batch processes work with the entire relevant dataset (as opposed to a sliced version)\n",
    "\n",
    "Real-time process: \n",
    "- Tasks carried out at the time of request\n",
    "- Think recommendations on page loads, updaing next episodes, re-ranking recommendations when new information is provided\n",
    "- These tasks are resource constrained"
   ]
  },
  {
   "cell_type": "markdown",
   "metadata": {},
   "source": [
    "### Collectors \n",
    "\n",
    "Collectors are tasked with knowing what is in a collection of items that could be recommended and the features/attributes of those items \n",
    "\n",
    "**Offline Collectors**\n",
    "\n",
    "This type of collector is responsible for *large datasets* and needs to be able to quickly access relevant data \n",
    "- User-item interactions, user similarities, item similarities, feature stores and indicies\n",
    "\n",
    "These collectors tend to implement sublinear search functions or distrbuted computer \n",
    "\n",
    "**Online Collectors**\n",
    "\n",
    "Provide access to processed data from the offline collector for inference and handle user behavior. For some systems, online collectors also handle encoding\n",
    "\n",
    "Think processes like:\n",
    "- Nearest neighbords\n",
    "- Augmenting observations with stored features\n"
   ]
  },
  {
   "cell_type": "markdown",
   "metadata": {},
   "source": [
    "### Rankers \n",
    "\n",
    "Rankers take collections and order its elements according to given context by filtering and scoring them. \n",
    "- Filtering involves rough inclusion/exclusion of items\n",
    "- Scoring creates an order for potential recommendations\n",
    "\n",
    "**Offline Ranker**\n",
    "\n",
    "Differentiates itself from the online ranker in the validation and output and often involves training a ranking algorithm\n",
    "\n",
    "**Online Ranker**\n",
    "\n",
    "Filters and scores the recommendations\n"
   ]
  },
  {
   "cell_type": "markdown",
   "metadata": {},
   "source": [
    "### Servers\n",
    "\n",
    "Take ordered subsets of recommendations from the rankers and ensure data schemas are satisfied\n",
    "\n",
    "**Offline Server**\n",
    "\n",
    "Taksed with high-leverl alignment and schema enforcement and experimentaion \n",
    "\n",
    "**Online Server**\n",
    "\n",
    "Use rules and configurations to make a final adjustment to the ranked recommendations (think diversification)"
   ]
  }
 ],
 "metadata": {
  "language_info": {
   "name": "python"
  },
  "orig_nbformat": 4
 },
 "nbformat": 4,
 "nbformat_minor": 2
}
